{
  "nbformat": 4,
  "nbformat_minor": 0,
  "metadata": {
    "colab": {
      "name": "Tasca3_Estructura_de_control.ipynb",
      "provenance": [],
      "authorship_tag": "ABX9TyPBNee8aoYvqCH3IZCyjhq9"
    },
    "kernelspec": {
      "name": "python3",
      "display_name": "Python 3"
    },
    "language_info": {
      "name": "python"
    }
  },
  "cells": [
    {
      "cell_type": "markdown",
      "metadata": {
        "id": "CnQQnCQyT5Rf"
      },
      "source": [
        "# Tasca 3: Estructura de control\n"
      ]
    },
    {
      "cell_type": "markdown",
      "metadata": {
        "id": "jjGBj6_KUASz"
      },
      "source": [
        "## Nivell 1\n",
        "\n",
        "### Exercici 1\n",
        "L'exercici consisteix a crear un programa que et classifiqui una variable numèrica en funció de l’escala Suspès/Aprovat/Notable/Excel·lent.\n"
      ]
    },
    {
      "cell_type": "code",
      "metadata": {
        "id": "Mf7uPWI2U82T"
      },
      "source": [
        "def qualificar(nota):\n",
        "  '''\n",
        "  Classifica una nota numèrica en diferents rangs i en dona una qualificaicó\n",
        "  (suspès, aprovat, notable, excel·lent)\n",
        "\n",
        "  Paràmetres:\n",
        "      nota: nota numèrica entre 0 i 10\n",
        "\n",
        "  Retorna:\n",
        "      qualificacio (str): qualificació corresponent a la nota numèrica\n",
        "        suspès: nota < 5\n",
        "        aprovat: 5 <= nota < 7\n",
        "        notable: 7 <= nota < 9\n",
        "        excel·lent: 9 <= nota <= 10\n",
        "  '''\n",
        "\n",
        "  if 0 <= nota < 5:      return 'suspès'\n",
        "  elif 5 <= nota < 7:   return 'aprovat'\n",
        "  elif 7 <= nota < 9:   return 'notable'\n",
        "  elif 9 <= nota <= 10: return 'excel·lent'\n",
        "  else: return \"Error, la nota no pot ser qualificada\"\n"
      ],
      "execution_count": 113,
      "outputs": []
    },
    {
      "cell_type": "code",
      "metadata": {
        "colab": {
          "base_uri": "https://localhost:8080/"
        },
        "id": "HYLfaDVhZOjV",
        "outputId": "2a7315e9-f0e0-46c6-b81f-13fd329fad78"
      },
      "source": [
        "# Test\n",
        "\n",
        "# Generem un llistat de valors (floats) per testejar la funció\n",
        "llista_de_notes = [x / 10.0 for x in range(-2, 130,12)] \n",
        "\n",
        "for nota in llista_de_notes:\n",
        "  print(f'Nota: {nota} --> Qualificació: {qualificar(nota)}')\n"
      ],
      "execution_count": 114,
      "outputs": [
        {
          "output_type": "stream",
          "text": [
            "Nota: -0.2 --> Qualificació: Error, la nota no pot ser qualificada\n",
            "Nota: 1.0 --> Qualificació: suspès\n",
            "Nota: 2.2 --> Qualificació: suspès\n",
            "Nota: 3.4 --> Qualificació: suspès\n",
            "Nota: 4.6 --> Qualificació: suspès\n",
            "Nota: 5.8 --> Qualificació: aprovat\n",
            "Nota: 7.0 --> Qualificació: notable\n",
            "Nota: 8.2 --> Qualificació: notable\n",
            "Nota: 9.4 --> Qualificació: excel·lent\n",
            "Nota: 10.6 --> Qualificació: Error, la nota no pot ser qualificada\n",
            "Nota: 11.8 --> Qualificació: Error, la nota no pot ser qualificada\n"
          ],
          "name": "stdout"
        }
      ]
    },
    {
      "cell_type": "markdown",
      "metadata": {
        "id": "86mqC4FFT_xb"
      },
      "source": [
        "### Exercici 2\n",
        "Utilitzant el següent tutorial Programiz: Python Input, Output and Import crea un programa que et pregunti dos números. T’ha de mostrar un missatge dient si el primer és més gran, el segon és més gran o són iguals."
      ]
    },
    {
      "cell_type": "code",
      "metadata": {
        "id": "8Ar_wJ0ZU9O_"
      },
      "source": [
        "def comparar_numeros():\n",
        "  '''\n",
        "  Pregunta dos números i mostra quin dels dos és més gran\n",
        "  '''  \n",
        "\n",
        "  num1 = float(input('Siusplau, escriu el primer número: '))\n",
        "  num2 = float(input('Siusplau, escriu el segon número:'))\n",
        "\n",
        "  if num1 > num2: print('El primer número és més gran que el segon')\n",
        "  elif num1 < num2: print('El segon número és més gran que el primer')\n",
        "  else: print ('Els dos números són iguals')\n"
      ],
      "execution_count": 115,
      "outputs": []
    },
    {
      "cell_type": "code",
      "metadata": {
        "colab": {
          "base_uri": "https://localhost:8080/"
        },
        "id": "OCVGE0wEeTha",
        "outputId": "e0ee9e56-d69f-43a1-862e-f35755ab1b37"
      },
      "source": [
        "comparar_numeros()"
      ],
      "execution_count": 49,
      "outputs": [
        {
          "output_type": "stream",
          "text": [
            "Siusplau, escriu el primer número: 4.3\n",
            "Siusplau, escriu el segon número:8.6\n",
            "El segon número és més gran que el primer\n"
          ],
          "name": "stdout"
        }
      ]
    },
    {
      "cell_type": "markdown",
      "metadata": {
        "id": "te-86iBRUfV9"
      },
      "source": [
        "### Exercici 3\n",
        "Crea un programa que et pregunti el teu nom, i et demani un número. Si el número és 0, hauria de mostrar un missatge d’error. En cas contrari, hauria de mostrar el nom repetit tants cops com indiqui el número. Per exemple, “Joan Joan Joan”."
      ]
    },
    {
      "cell_type": "code",
      "metadata": {
        "id": "j2epiqsZU9wX"
      },
      "source": [
        "def repetir_nom():\n",
        "  '''\n",
        "  Pregunta un nom i un número enter positiu no-nul, \n",
        "  i repeteix el nom tants cops com indiqui el número\n",
        "  '''  \n",
        "  nom = input('Siusplau, escriu el teu nom:')\n",
        "  num = int(input('Siusplau, entra un número enter positiu:'))\n",
        "\n",
        "  resultat = []\n",
        "\n",
        "  if num <= 0:\n",
        "    print('Error: el número ha de ser més gran que zero')\n",
        "  else:\n",
        "    for i in range(num):\n",
        "      resultat.append(nom)\n",
        "    \n",
        "    print(*resultat, sep=' ', end='\\n')\n",
        "    # Utilitzem el * davant l'argument resultats per fer unpack de l'array \n",
        "    # i que així no imprimeixi els [] de l'array"
      ],
      "execution_count": 116,
      "outputs": []
    },
    {
      "cell_type": "code",
      "metadata": {
        "colab": {
          "base_uri": "https://localhost:8080/"
        },
        "id": "w0AUNxEHfsTo",
        "outputId": "e95021c5-3193-4bd4-c13b-2a4d253d2dc8"
      },
      "source": [
        "repetir_nom()"
      ],
      "execution_count": 118,
      "outputs": [
        {
          "output_type": "stream",
          "text": [
            "Siusplau, escriu el teu nom:Roger\n",
            "Siusplau, entra un número enter positiu:10\n",
            "Roger Roger Roger Roger Roger Roger Roger Roger Roger Roger\n"
          ],
          "name": "stdout"
        }
      ]
    },
    {
      "cell_type": "markdown",
      "metadata": {
        "id": "60o_lj2nUcJW"
      },
      "source": [
        "### Exercici 4\n",
        "Crea un programa que donada una llista qualsevol, et digui si es simètrica o no. Si ho és, que et digui quants elements té."
      ]
    },
    {
      "cell_type": "code",
      "metadata": {
        "id": "TGvhsOFyU-MU"
      },
      "source": [
        "def es_simetrica(llista):\n",
        "  '''\n",
        "  Indica si la llista és simètrica, \n",
        "  i en cas de ser-ho indica quants elements té\n",
        "  '''  \n",
        "\n",
        "  # Fem una còpia girada de la llista\n",
        "  llista_girada = llista.copy()\n",
        "  llista_girada.reverse()\n",
        "\n",
        "  # Si la llista és simètrica, al girar-la ha de quedar igual\n",
        "  if llista == llista_girada:\n",
        "    print(f'La llista és simètrica i té {len(llista)} elements')\n",
        "  else:\n",
        "    print('La llista no és simètrica')"
      ],
      "execution_count": 119,
      "outputs": []
    },
    {
      "cell_type": "code",
      "metadata": {
        "colab": {
          "base_uri": "https://localhost:8080/"
        },
        "id": "tSSENaKako-C",
        "outputId": "d5353e45-847f-4560-99f7-4b9b9c3b568d"
      },
      "source": [
        "# Test\n",
        "tests = ([1,2,3,2,1],\n",
        "     [1,2,2,1],\n",
        "     [1,3,4,5],\n",
        "     ['a','b','c','d'],\n",
        "     ['a','b','b','a'],\n",
        "     ['a',1,'b','1','a'])\n",
        "\n",
        "for i, llista in enumerate(tests):\n",
        "  print(f'\\nTest {i}: Llista testejada: {llista}')\n",
        "  es_simetrica(llista)"
      ],
      "execution_count": 120,
      "outputs": [
        {
          "output_type": "stream",
          "text": [
            "\n",
            "Test 0: Llista testejada: [1, 2, 3, 2, 1]\n",
            "La llista és simètrica i té 5 elements\n",
            "\n",
            "Test 1: Llista testejada: [1, 2, 2, 1]\n",
            "La llista és simètrica i té 4 elements\n",
            "\n",
            "Test 2: Llista testejada: [1, 3, 4, 5]\n",
            "La llista no és simètrica\n",
            "\n",
            "Test 3: Llista testejada: ['a', 'b', 'c', 'd']\n",
            "La llista no és simètrica\n",
            "\n",
            "Test 4: Llista testejada: ['a', 'b', 'b', 'a']\n",
            "La llista és simètrica i té 4 elements\n",
            "\n",
            "Test 5: Llista testejada: ['a', 1, 'b', '1', 'a']\n",
            "La llista no és simètrica\n"
          ],
          "name": "stdout"
        }
      ]
    },
    {
      "cell_type": "markdown",
      "metadata": {
        "id": "6gTRlPPzU2ZI"
      },
      "source": [
        "### Exercici 5\n",
        "Crea un programa que donada una llista, et digui quants números coincideixen amb la seva posició. Per exemple [3,4,2,0,2,3,6] el 2 i el 6 coincideixen."
      ]
    },
    {
      "cell_type": "code",
      "metadata": {
        "id": "gq0gDcPYTya8"
      },
      "source": [
        "def posicio_coincident(llista):\n",
        "  '''\n",
        "  Donada una llista de números enters, indica quants númetros de la llista \n",
        "  coincideixen amb la seva posició\n",
        "  '''  \n",
        "  resultat = 0\n",
        "\n",
        "  for idx, val in enumerate(llista):\n",
        "      if idx == val: resultat += 1\n",
        "\n",
        "  return resultat"
      ],
      "execution_count": 121,
      "outputs": []
    },
    {
      "cell_type": "code",
      "metadata": {
        "colab": {
          "base_uri": "https://localhost:8080/"
        },
        "id": "olaUXOiRoj3d",
        "outputId": "157b72f8-1529-4b91-c663-024818eaafcd"
      },
      "source": [
        "# Test\n",
        "tests = ([1,2,3,2,1],\n",
        "     [0,1,2,3,4,5],\n",
        "     [0,9,2,9,4,5,9,9,8])\n",
        "\n",
        "for i, llista in enumerate(tests):\n",
        "  print(f'\\nTest {i}: Llista testejada: {llista}\\\n",
        "  --> Resultat: {posicio_coincident(llista)}')"
      ],
      "execution_count": 122,
      "outputs": [
        {
          "output_type": "stream",
          "text": [
            "\n",
            "Test 0: Llista testejada: [1, 2, 3, 2, 1]  --> Resultat: 0\n",
            "\n",
            "Test 1: Llista testejada: [0, 1, 2, 3, 4, 5]  --> Resultat: 6\n",
            "\n",
            "Test 2: Llista testejada: [0, 9, 2, 9, 4, 5, 9, 9, 8]  --> Resultat: 5\n"
          ],
          "name": "stdout"
        }
      ]
    }
  ]
}